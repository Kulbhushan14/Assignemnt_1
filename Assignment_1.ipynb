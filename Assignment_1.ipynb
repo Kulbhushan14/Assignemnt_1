{
 "cells": [
  {
   "cell_type": "raw",
   "id": "7ba32820-71dd-4cfc-8dd7-96ba5883ab64",
   "metadata": {},
   "source": [
    " 1. In the below elements which of them are values or an expression? \n",
    "eg:- values can be \n",
    "integer or string and expressions will be mathematical operators \n",
    "*\n",
    "hello\n",
    "39\n",
    "-87.8\n",
    "-\n",
    "/\n",
    "+\n",
    "6\n",
    "+\r\n",
    "6"
   ]
  },
  {
   "cell_type": "markdown",
   "id": "1973ef4b-d665-4772-a22e-03ac0012ba35",
   "metadata": {},
   "source": [
    "Ans---"
   ]
  },
  {
   "cell_type": "raw",
   "id": "3b650549-f9fa-4b59-aaa4-9f9e81d01cb6",
   "metadata": {},
   "source": [
    "hello-- is string\n",
    "39,-87.8,6 --- this are the values integer values \n",
    "-,+,/ -- this are the mathematical operators "
   ]
  },
  {
   "cell_type": "markdown",
   "id": "f9865ae4-6dc3-44f4-b202-23206587f593",
   "metadata": {},
   "source": [
    "## 2. What is the difference between string and variable?"
   ]
  },
  {
   "cell_type": "markdown",
   "id": "449a8bf8-67fd-4653-9744-675e71963fdb",
   "metadata": {},
   "source": [
    "Ans---\n",
    "\n",
    "String: \n",
    "        A string is a data type used to represent text, i.e., sequences of characters. In most programming languages, strings are typically enclosed within single (' ') or double (\" \") quotation marks\n",
    "\n",
    "Variable: \n",
    "        A variable is a symbolic name that represents or refers to a value. Variables are used to store data that can be referenced and manipulated in a program\n"
   ]
  },
  {
   "cell_type": "code",
   "execution_count": 3,
   "id": "d03bef8d-340b-4607-b893-083126da34d4",
   "metadata": {},
   "outputs": [],
   "source": [
    "## example of string and variable \n",
    "\n",
    "My_string = \"hello\"## hello is string  and My_string is variable name that store the hello in the memory \n",
    "\n",
    "x=5 ## x is variable and stroe the integer value 5\n"
   ]
  },
  {
   "cell_type": "markdown",
   "id": "d86a405d-38af-41a4-96e7-64d071eccf8f",
   "metadata": {},
   "source": [
    "## 3.Describe three different data types."
   ]
  },
  {
   "cell_type": "raw",
   "id": "cb971ca1-93d9-4cef-a509-86e902a8f464",
   "metadata": {},
   "source": [
    "Integer (int):\n",
    "\n",
    "Integers represent whole numbers without any decimal point.\n",
    "They can be positive or negative.\n",
    "ex-- 5,1 etc\n",
    "\n",
    "String (str):\r\n",
    "\r\n",
    "Strings are sequences of characters, enclosed within single (' ') or double (\" \") quotation marks.\r\n",
    "They can contain letters, numbers, symbols, and whitespa\n",
    "ex-- 'hello', 'myname'\n",
    "\n",
    "Float (float):\r\n",
    "\r\n",
    "Floats represent real numbers with a decimal point or exponential notation.\r\n",
    "They can be positive or negati\n",
    "ex-- 0.1,-012,...\n",
    "\n",
    "Boolean-- \n",
    "boolean represnt the output in true or false\n",
    "\n",
    "List[]---\r\n",
    "A list is a data Structure in python that is mutable, or changeable, ordered sequence of elements. Each element that are present inside of a list is called an item. Just as string are defined as characters between quotes, lists are defined by having values between square beackets[]ex-- my_list=[10,20,\"orange\"]\n",
    "\n",
    "Sets---\r\n",
    "A set is an unordered collecction data type that is iterable, mutable and also no duplicate elements. Python set class represnet the mathematical notion of a set. This is based on a data structure known as a has table.ex---set_var={1,2,3,4}\n",
    "\n",
    "Dictionary---\r\n",
    "a dictionary is a collection which is unordered, changeable and indexed. In python dictionary are written with curly brackets, and they have keys and values\n",
    "ex-- dic={name:\"bhushan\",age:25}.\n",
    "\n",
    "ve.ce."
   ]
  },
  {
   "cell_type": "markdown",
   "id": "09949ba3-60f0-4804-989c-4160e4f1ae6a",
   "metadata": {},
   "source": [
    "## 4. What is an expression made up of? What do all expressions do?"
   ]
  },
  {
   "cell_type": "raw",
   "id": "9cf57d55-fb40-46de-b21e-fb05c6b1fbaf",
   "metadata": {},
   "source": [
    "In Python, an expression is made up of one or more operands combined with operators to produce a value. An expression can consist of variables, literals, function calls, and operators.\n",
    "\n",
    "Operands: \n",
    "    These are the values or variables that the operators act upon. For example, in the expression x + 5, x and 5 are operands.\r\n",
    "\r\n",
    "Operators\n",
    "    : These are symbols that represent computations like addition, subtraction, multiplication, division, etc. Python supports various operators such as arithmetic operators (+, -, *, /), comparison operators (==, !=, <, >, <=, >=), logical operators (and, or, not), assignment operators (=, +=, -=, *=, /=), etc.\r\n",
    "\r\n",
    "Liter\n",
    "    ls: These are fixed values in the code. For example, 5, \"hello\", 3.14 are all literals.\r\n",
    "\r\n",
    "Function c\n",
    "    alls: These are calls to functions that return values. For example, len(\"hello\") is an expression that calls the len() function to get the length of the string \"hello\".\r\n",
    "\r\n",
    "Expressions can be simple, like x + 5, or more complex, involving multiple operators and operands, like (x + 5) * y / 2."
   ]
  },
  {
   "cell_type": "markdown",
   "id": "8de77b40-1007-4a07-b803-bb390144a358",
   "metadata": {},
   "source": [
    "5.This assignment statements, like spam = 10. What is the difference between an\r\n",
    "expression and a statement?"
   ]
  },
  {
   "cell_type": "raw",
   "id": "995876b4-9942-41a8-b01b-0fb9ce05b377",
   "metadata": {},
   "source": [
    "Expression:\n",
    "\n",
    "An expression is a combination of values, variables, operators, and function calls that evaluates to a single value.\n",
    "Expressions can be simple or complex.\n",
    "Examples of expressions include: 5 + 3, x * y, len(\"hello\"), x == y, etc.\n",
    "\n",
    "Statement:\n",
    "\n",
    "A statement is a complete unit of execution in a programming language that performs some action.\n",
    "Statements are typically composed of expressions and control structures like loops, conditionals, and function definitions.\n",
    "Examples of statements include: assignment statements (spam = 10), conditional statements (if, elif, else), loop statements (for, while), function definitions, etc."
   ]
  },
  {
   "cell_type": "markdown",
   "id": "dc3343c9-e825-4ae2-9923-ed9346a23160",
   "metadata": {},
   "source": [
    "6. After running the following code, what does the variable bacon contain?\r\n",
    "bacon = 22\r\n",
    "bacon + 1"
   ]
  },
  {
   "cell_type": "code",
   "execution_count": 6,
   "id": "0f40fd69-099f-4263-99b0-f8c5b884f5c8",
   "metadata": {},
   "outputs": [
    {
     "data": {
      "text/plain": [
       "23"
      ]
     },
     "execution_count": 6,
     "metadata": {},
     "output_type": "execute_result"
    }
   ],
   "source": [
    "bacon=22 # to declare and assign the value and here bacon is (variable) and 22 is value in int \n",
    "bacon+1   ## this is simple math operation \n",
    "## and the value holds the bacon is 23"
   ]
  },
  {
   "cell_type": "markdown",
   "id": "34c60ec3-2792-4390-a41d-90710f70398b",
   "metadata": {},
   "source": [
    "7. What should the values of the following two terms be?\n",
    "&#39;spam&#39; + &#39;spamspam&#39;\n",
    "&#39;spam&#39; * 3"
   ]
  },
  {
   "cell_type": "code",
   "execution_count": 9,
   "id": "6d826097-b06a-4c76-9c04-e32be0a2df2d",
   "metadata": {},
   "outputs": [
    {
     "data": {
      "text/plain": [
       "'spamspamspam'"
      ]
     },
     "execution_count": 9,
     "metadata": {},
     "output_type": "execute_result"
    }
   ],
   "source": [
    "'spam'+'spamspam'\n",
    "'spam' * 3"
   ]
  },
  {
   "cell_type": "markdown",
   "id": "b01d3f6f-96fd-4d28-8e3a-0997f25b88fc",
   "metadata": {},
   "source": [
    "8. Why is eggs a valid variable name while 100 is invalid?"
   ]
  },
  {
   "cell_type": "markdown",
   "id": "1184e067-47f1-49ce-bf13-cb5b137202aa",
   "metadata": {},
   "source": [
    "eggs is a valid variable name because it starts with a letter ('e') and consists of letters only.\n",
    "100 is invalid because it starts with a number, violating the rule that variable names cannot begin with a number."
   ]
  },
  {
   "cell_type": "markdown",
   "id": "5d8908e3-178c-47f3-b2c1-60f6a4d70fc2",
   "metadata": {},
   "source": [
    "9. What three functions can be used to get the integer, floating-point number, or string\r\n",
    "version of a value?"
   ]
  },
  {
   "cell_type": "code",
   "execution_count": 11,
   "id": "a34fd170-13f6-47db-a332-da9d053c867c",
   "metadata": {},
   "outputs": [],
   "source": [
    "value = 10.5\n",
    "integer_value = int(value)\n",
    "float_value = float(value)\n",
    "string_value = str(value)\n"
   ]
  },
  {
   "cell_type": "markdown",
   "id": "1a0b73bc-1c23-40b3-9cfc-1aa5d65b81eb",
   "metadata": {},
   "source": [
    "10. Why does this expression cause an error? How can you fix it?\n",
    "&#39;I have eaten &#39; + 99 + &#39; burritos.&#39;"
   ]
  },
  {
   "cell_type": "code",
   "execution_count": 16,
   "id": "e75f97ff-ca94-47f0-862d-5ffb5daf4414",
   "metadata": {},
   "outputs": [
    {
     "ename": "TypeError",
     "evalue": "can only concatenate str (not \"int\") to str",
     "output_type": "error",
     "traceback": [
      "\u001b[1;31m---------------------------------------------------------------------------\u001b[0m",
      "\u001b[1;31mTypeError\u001b[0m                                 Traceback (most recent call last)",
      "Cell \u001b[1;32mIn[16], line 1\u001b[0m\n\u001b[1;32m----> 1\u001b[0m \u001b[38;5;124m'\u001b[39m\u001b[38;5;124mI have eaten\u001b[39m\u001b[38;5;124m'\u001b[39m\u001b[38;5;241m+\u001b[39m\u001b[38;5;241m99\u001b[39m\u001b[38;5;241m+\u001b[39m\u001b[38;5;124m'\u001b[39m\u001b[38;5;124mburritos\u001b[39m\u001b[38;5;124m'\u001b[39m\n",
      "\u001b[1;31mTypeError\u001b[0m: can only concatenate str (not \"int\") to str"
     ]
    }
   ],
   "source": [
    "'I have eaten'+99+'burritos'"
   ]
  },
  {
   "cell_type": "code",
   "execution_count": 19,
   "id": "6060d7b7-4bda-46a0-a9c4-8b09d89b4e8b",
   "metadata": {},
   "outputs": [
    {
     "data": {
      "text/plain": [
       "'I have eaten99burritos'"
      ]
     },
     "execution_count": 19,
     "metadata": {},
     "output_type": "execute_result"
    }
   ],
   "source": [
    "# So I convert the 99 that is integer by default in to the string data type  \n",
    "# that is casting the data type \n",
    "'I have eaten'+str(99)+'burritos'"
   ]
  }
 ],
 "metadata": {
  "kernelspec": {
   "display_name": "Python 3 (ipykernel)",
   "language": "python",
   "name": "python3"
  },
  "language_info": {
   "codemirror_mode": {
    "name": "ipython",
    "version": 3
   },
   "file_extension": ".py",
   "mimetype": "text/x-python",
   "name": "python",
   "nbconvert_exporter": "python",
   "pygments_lexer": "ipython3",
   "version": "3.11.5"
  }
 },
 "nbformat": 4,
 "nbformat_minor": 5
}
